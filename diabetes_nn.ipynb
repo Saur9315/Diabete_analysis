{
 "cells": [
  {
   "cell_type": "code",
   "execution_count": 1,
   "metadata": {
    "collapsed": true
   },
   "outputs": [],
   "source": [
    "import numpy as np\n",
    "import pandas as pd\n",
    "import matplotlib.pyplot as plt\n",
    "import seaborn as sns\n",
    "\n",
    "import torch\n",
    "from torch.nn import Sequential, Linear\n",
    "from torch.optim import SGD"
   ]
  },
  {
   "cell_type": "code",
   "execution_count": 2,
   "outputs": [],
   "source": [
    "df = pd.read_csv('datasets/diabetes_balanced.csv')"
   ],
   "metadata": {
    "collapsed": false,
    "pycharm": {
     "name": "#%%\n"
    }
   }
  },
  {
   "cell_type": "code",
   "execution_count": 3,
   "outputs": [
    {
     "data": {
      "text/plain": "   Pregnancies  Glucose  BloodPressure  SkinThickness  Insulin   BMI  \\\n0            6    148.0           72.0           35.0    105.0  33.6   \n1            1     85.0           66.0           29.0    105.0  26.6   \n2            8    183.0           64.0           32.0    105.0  23.3   \n3            3     78.0           50.0           32.0     88.0  31.0   \n4            8    125.0           96.0           32.0    105.0  32.0   \n\n   DiabetesPedigreeFunction  Age  Outcome  \n0                     0.627   50        1  \n1                     0.351   31        0  \n2                     0.672   32        1  \n3                     0.248   26        1  \n4                     0.232   54        1  ",
      "text/html": "<div>\n<style scoped>\n    .dataframe tbody tr th:only-of-type {\n        vertical-align: middle;\n    }\n\n    .dataframe tbody tr th {\n        vertical-align: top;\n    }\n\n    .dataframe thead th {\n        text-align: right;\n    }\n</style>\n<table border=\"1\" class=\"dataframe\">\n  <thead>\n    <tr style=\"text-align: right;\">\n      <th></th>\n      <th>Pregnancies</th>\n      <th>Glucose</th>\n      <th>BloodPressure</th>\n      <th>SkinThickness</th>\n      <th>Insulin</th>\n      <th>BMI</th>\n      <th>DiabetesPedigreeFunction</th>\n      <th>Age</th>\n      <th>Outcome</th>\n    </tr>\n  </thead>\n  <tbody>\n    <tr>\n      <th>0</th>\n      <td>6</td>\n      <td>148.0</td>\n      <td>72.0</td>\n      <td>35.0</td>\n      <td>105.0</td>\n      <td>33.6</td>\n      <td>0.627</td>\n      <td>50</td>\n      <td>1</td>\n    </tr>\n    <tr>\n      <th>1</th>\n      <td>1</td>\n      <td>85.0</td>\n      <td>66.0</td>\n      <td>29.0</td>\n      <td>105.0</td>\n      <td>26.6</td>\n      <td>0.351</td>\n      <td>31</td>\n      <td>0</td>\n    </tr>\n    <tr>\n      <th>2</th>\n      <td>8</td>\n      <td>183.0</td>\n      <td>64.0</td>\n      <td>32.0</td>\n      <td>105.0</td>\n      <td>23.3</td>\n      <td>0.672</td>\n      <td>32</td>\n      <td>1</td>\n    </tr>\n    <tr>\n      <th>3</th>\n      <td>3</td>\n      <td>78.0</td>\n      <td>50.0</td>\n      <td>32.0</td>\n      <td>88.0</td>\n      <td>31.0</td>\n      <td>0.248</td>\n      <td>26</td>\n      <td>1</td>\n    </tr>\n    <tr>\n      <th>4</th>\n      <td>8</td>\n      <td>125.0</td>\n      <td>96.0</td>\n      <td>32.0</td>\n      <td>105.0</td>\n      <td>32.0</td>\n      <td>0.232</td>\n      <td>54</td>\n      <td>1</td>\n    </tr>\n  </tbody>\n</table>\n</div>"
     },
     "execution_count": 3,
     "metadata": {},
     "output_type": "execute_result"
    }
   ],
   "source": [
    "df.head()"
   ],
   "metadata": {
    "collapsed": false,
    "pycharm": {
     "name": "#%%\n"
    }
   }
  },
  {
   "cell_type": "code",
   "execution_count": null,
   "outputs": [],
   "source": [],
   "metadata": {
    "collapsed": false,
    "pycharm": {
     "name": "#%%\n"
    }
   }
  },
  {
   "cell_type": "markdown",
   "source": [
    "# PyTorch"
   ],
   "metadata": {
    "collapsed": false
   }
  },
  {
   "cell_type": "code",
   "execution_count": 91,
   "outputs": [
    {
     "name": "stdout",
     "output_type": "stream",
     "text": [
      "cuda\n",
      "Epoch [1/100], Loss: 0.6978\n",
      "Epoch [11/100], Loss: 0.5357\n",
      "Epoch [21/100], Loss: 0.7072\n",
      "Epoch [31/100], Loss: 0.7257\n",
      "Epoch [41/100], Loss: 0.5014\n",
      "Epoch [51/100], Loss: 0.3935\n",
      "Epoch [61/100], Loss: 0.4470\n",
      "Epoch [71/100], Loss: 0.3672\n",
      "Epoch [81/100], Loss: 0.6053\n",
      "Epoch [91/100], Loss: 0.4353\n"
     ]
    }
   ],
   "source": [
    "import torch\n",
    "import torch.nn as nn\n",
    "import torch.optim as optim\n",
    "from torch.utils.data import DataLoader, TensorDataset\n",
    "from sklearn.model_selection import train_test_split\n",
    "\n",
    "# setting device to gpu\n",
    "device = torch.device('cuda' if torch.cuda.is_available() else 'cpu')\n",
    "print(device)\n",
    "\n",
    "X = df.drop('Outcome', axis=1).values\n",
    "Y = df['Outcome'].values\n",
    "\n",
    "X_train, X_test, Y_train, Y_test = train_test_split(X, Y, test_size=0.15, random_state=42)\n",
    "\n",
    "# Convert NumPy arrays to PyTorch tensors\n",
    "features_tensor = torch.FloatTensor(X_train)\n",
    "labels_tensor = torch.FloatTensor(Y_train)\n",
    "\n",
    "# Create a DataLoader\n",
    "dataset = TensorDataset(features_tensor, labels_tensor)\n",
    "dataloader = DataLoader(dataset, batch_size=64, shuffle=True)\n",
    "\n",
    "\n",
    "class DiabetesModel(nn.Module):\n",
    "    def __init__(self):\n",
    "        super(DiabetesModel, self).__init__()\n",
    "        self.fc1 = nn.Linear(8, 128)\n",
    "        self.relu = nn.ReLU()\n",
    "        self.fc2 = nn.Linear(128, 128)\n",
    "        self.relu2 = nn.ReLU()\n",
    "        self.fc3 = nn.Linear(128, 128)\n",
    "        self.relu3 = nn.ReLU()\n",
    "        self.fc4 = nn.Linear(128, 16)\n",
    "        self.relu4 = nn.ReLU()\n",
    "        self.fc5 = nn.Linear(16, 1)\n",
    "        self.sigmoid = nn.Sigmoid()\n",
    "\n",
    "    def forward(self, x):\n",
    "        x = self.relu(self.fc1(x))\n",
    "        x = self.relu2(self.fc2(x))\n",
    "        x = self.relu3(self.fc3(x))\n",
    "        x = self.relu4(self.fc4(x))\n",
    "        x = self.sigmoid(self.fc5(x))\n",
    "        return x\n",
    "\n",
    "# Instantiate the model, loss function, and optimizer\n",
    "model = DiabetesModel()\n",
    "criterion = nn.BCELoss()\n",
    "optimizer = optim.Adam(model.parameters(), lr=0.001)\n",
    "# optimizer = optim.SGD(model.parameters(), lr=0.001)\n",
    "\n",
    "model.to(device)\n",
    "features_tensor = features_tensor.to(device)\n",
    "labels_tensor = labels_tensor.to(device)\n",
    "\n",
    "# Lists to store parameters and loss history\n",
    "parameters_history = []\n",
    "loss_history = []\n",
    "best_loss = float('inf')\n",
    "best_parameters = None\n",
    "\n",
    "for param in model.parameters():\n",
    "    param.to(device)\n",
    "\n",
    "# Training loop\n",
    "num_epochs = 100\n",
    "for epoch in range(num_epochs):\n",
    "    for batch_features, batch_labels in dataloader:\n",
    "        batch_features, batch_labels = batch_features.to(device), batch_labels.to(device)\n",
    "        optimizer.zero_grad()\n",
    "        outputs = model(batch_features)\n",
    "        loss = criterion(outputs, batch_labels.view(-1, 1))\n",
    "        loss.backward()\n",
    "        optimizer.step()\n",
    "    # Store parameters and loss at the end of each epoch\n",
    "    if loss.item() < best_loss:\n",
    "        best_loss = loss.item()\n",
    "        best_parameters = [param.data.clone() for param in model.parameters()]\n",
    "    parameters_history.append([param.data.clone() for param in model.parameters()])\n",
    "    loss_history.append(loss.item())\n",
    "    if epoch % 10 == 0:\n",
    "        print(f'Epoch [{epoch+1}/{num_epochs}], Loss: {loss.item():.4f}')"
   ],
   "metadata": {
    "collapsed": false,
    "pycharm": {
     "name": "#%%\n"
    }
   }
  },
  {
   "cell_type": "code",
   "execution_count": 92,
   "outputs": [
    {
     "data": {
      "text/plain": "<Figure size 432x288 with 1 Axes>",
      "image/png": "[encoded data removed]"
     },
     "metadata": {
      "needs_background": "light"
     },
     "output_type": "display_data"
    }
   ],
   "source": [
    "\n",
    "sns.lineplot(x=range(num_epochs), y=loss_history)\n",
    "plt.title('Loss function')\n",
    "plt.xlabel('epochs')\n",
    "plt.ylabel('loss')\n",
    "plt.show()"
   ],
   "metadata": {
    "collapsed": false,
    "pycharm": {
     "name": "#%%\n"
    }
   }
  },
  {
   "cell_type": "code",
   "execution_count": 93,
   "outputs": [
    {
     "data": {
      "text/plain": "(0.2836771607398987,\n [tensor([[ 0.0145, -0.2562,  0.1539,  ...,  0.1492, -0.2758, -0.3464],\n          [-0.1880, -0.3102, -0.2878,  ...,  0.2975, -0.1109, -0.0404],\n          [ 0.2190, -0.2025,  0.2150,  ..., -0.1705, -0.1146,  0.1039],\n          ...,\n          [ 0.1486,  0.2612, -0.0389,  ...,  0.2575, -0.2683, -0.3729],\n          [-0.2518,  0.1091, -0.2479,  ...,  0.2396,  0.1391, -0.2855],\n          [-0.3849, -0.0366,  0.1795,  ..., -0.1141, -0.3299,  0.2764]],\n         device='cuda:0'),\n  tensor([-0.0864, -0.3238, -0.4843,  0.1379,  0.2192,  0.0758, -0.2026, -0.1644,\n          -0.1810, -0.3196, -0.1201,  0.0685, -0.0507, -0.2270,  0.1344, -0.2361,\n           0.0838,  0.3310, -0.3272,  0.1329,  0.2699,  0.0317,  0.2198,  0.0996,\n           0.1626, -0.1615,  0.0025, -0.3279,  0.0403,  0.3030,  0.1711, -0.1551,\n          -0.0088, -0.0189,  0.1917,  0.1914,  0.2084, -0.3427,  0.1336, -0.1937,\n          -0.3412,  0.4756,  0.2294, -0.0937,  0.1525, -0.0511,  0.3496,  0.2633,\n          -0.0640, -0.2878,  0.2734, -0.1260, -0.0571, -0.1834, -0.5036, -0.1288,\n          -0.2149,  0.1234,  0.0686, -0.0813,  0.0496, -0.3352, -0.2662, -0.2161,\n           0.2318, -0.1267,  0.4212, -0.0170,  0.3710,  0.0946,  0.2247,  0.0756,\n           0.0103, -0.4690,  0.0584,  0.1856, -0.2464,  0.3170,  0.2267, -0.0872,\n           0.1981,  0.2138, -0.1201,  0.1128,  0.3347, -0.3751, -0.2124, -0.2204,\n          -0.3438, -0.1487, -0.3647, -0.3130,  0.0422,  0.1477,  0.1485,  0.0261,\n          -0.2028,  0.2316,  0.0571, -0.3454, -0.0475, -0.3037, -0.2914,  0.2027,\n          -0.0453, -0.4127,  0.1648,  0.2015, -0.4093, -0.2164,  0.2592,  0.3353,\n           0.0605,  0.2650, -0.3110, -0.3129, -0.2089,  0.3824, -0.0854, -0.0333,\n           0.2638, -0.3850,  0.2623, -0.2329,  0.3820, -0.0802, -0.0689,  0.4293],\n         device='cuda:0'),\n  tensor([[-0.0612,  0.0809, -0.0328,  ...,  0.0312,  0.0480,  0.0332],\n          [ 0.0831,  0.0762,  0.0224,  ...,  0.0475,  0.0587, -0.0428],\n          [ 0.0067, -0.0721, -0.0004,  ...,  0.0057,  0.0221,  0.0551],\n          ...,\n          [-0.0368,  0.0090, -0.0819,  ...,  0.0630,  0.0636, -0.0605],\n          [ 0.0437, -0.0338, -0.0268,  ...,  0.0606, -0.0777, -0.0563],\n          [-0.0519,  0.0555, -0.0240,  ..., -0.0551, -0.0336,  0.0546]],\n         device='cuda:0'),\n  tensor([-0.0712,  0.0856,  0.0318,  0.0538, -0.0857, -0.0098, -0.0344,  0.0680,\n           0.1024,  0.0567, -0.0511,  0.0939,  0.0064,  0.0691, -0.0189,  0.0194,\n          -0.1921, -0.0336, -0.0012,  0.0348, -0.1589,  0.0237, -0.0768,  0.1714,\n           0.0103,  0.0872, -0.0606, -0.0299, -0.0459,  0.0104, -0.0153, -0.1169,\n          -0.0722,  0.1050,  0.0183,  0.0225,  0.2061, -0.0594, -0.0159, -0.0259,\n           0.0117, -0.0061, -0.0859, -0.1693,  0.0951,  0.0891, -0.0502, -0.1522,\n          -0.0045,  0.0201,  0.0444, -0.0878,  0.1668, -0.0735, -0.0316, -0.1327,\n          -0.0194,  0.0422, -0.0837, -0.0732,  0.0743, -0.0086, -0.0224,  0.0742,\n           0.0344, -0.2357,  0.0204,  0.1772,  0.0724,  0.0114, -0.0007,  0.0367,\n           0.0077, -0.1467, -0.1199, -0.0718, -0.0347,  0.0271,  0.0614, -0.0514,\n           0.1584,  0.2289,  0.1951, -0.0755, -0.0030, -0.0620,  0.0005,  0.0310,\n           0.1785, -0.0245,  0.0121,  0.0906, -0.0389,  0.0512,  0.0703, -0.0856,\n           0.0761,  0.0860,  0.1116, -0.0171,  0.0173,  0.1457,  0.2076, -0.0243,\n          -0.0612,  0.1601,  0.0393, -0.0743,  0.1155,  0.0298, -0.0374,  0.1674,\n           0.1947,  0.1467,  0.0869, -0.0813,  0.1610,  0.0756, -0.0949,  0.1435,\n          -0.1201, -0.0495,  0.0576, -0.0790, -0.0382, -0.0264, -0.0337,  0.0993],\n         device='cuda:0'),\n  tensor([[-0.0056,  0.1078, -0.0256,  ...,  0.0198, -0.1187, -0.0016],\n          [-0.0329,  0.0548,  0.0517,  ...,  0.0267, -0.0386, -0.0285],\n          [ 0.0166,  0.0156, -0.0541,  ...,  0.0365,  0.0638, -0.0034],\n          ...,\n          [-0.0319, -0.0595, -0.0367,  ...,  0.0541, -0.0118, -0.0846],\n          [-0.0141,  0.0018, -0.0458,  ..., -0.0241, -0.0608,  0.0032],\n          [-0.0311,  0.0303, -0.0469,  ..., -0.0533,  0.0290,  0.0452]],\n         device='cuda:0'),\n  tensor([ 1.9579e-01, -1.0536e-01,  5.2014e-02,  6.1423e-02, -1.1786e-01,\n          -1.7954e-01,  6.7649e-02,  4.1925e-02,  1.9266e-01,  6.5268e-02,\n          -6.6063e-02, -8.6516e-02,  1.2417e-01,  5.5488e-03,  1.2082e-01,\n          -6.2007e-02,  6.4226e-02, -9.5926e-02,  2.1354e-01, -6.6045e-03,\n          -5.3483e-02,  9.8326e-03, -2.5272e-02,  2.6002e-02, -9.8343e-02,\n          -8.8993e-02, -5.8726e-02, -1.9408e-01, -1.5474e-02,  2.9452e-02,\n          -8.3563e-02, -8.5439e-02, -3.4244e-02, -2.8787e-02, -2.2926e-02,\n           9.9866e-02,  6.3511e-02,  6.5333e-02,  8.1816e-02,  1.3866e-01,\n           1.9981e-02, -1.7170e-01,  2.0840e-02,  2.7258e-02, -1.7812e-02,\n          -7.1332e-02,  1.9107e-03,  5.2674e-02, -1.6163e-02, -4.2476e-02,\n          -8.4404e-02, -4.8039e-02, -6.9024e-02,  1.2668e-02,  2.2195e-01,\n           9.3256e-02, -5.4747e-02, -2.9654e-02,  8.0430e-02, -7.3369e-02,\n          -1.3675e-01,  2.0506e-01,  1.4396e-01, -1.3743e-01,  1.6072e-01,\n           3.1982e-04,  3.0159e-01, -1.2890e-01, -5.3629e-02, -2.3671e-02,\n           5.3089e-02, -4.6392e-03,  4.6889e-02,  1.2819e-01,  1.7525e-01,\n           8.7693e-02, -1.7400e-02,  1.2157e-01, -8.9870e-02,  4.9705e-02,\n          -6.0297e-02, -1.2866e-03, -3.0211e-02,  4.9357e-02, -7.5414e-02,\n          -6.6294e-02, -1.7385e-01,  2.3063e-02, -8.5256e-02,  8.4357e-02,\n           9.1197e-02, -1.1734e-02, -2.5797e-02, -6.7054e-02,  6.2455e-02,\n          -6.9674e-02,  1.2612e-02,  5.2277e-05,  2.8526e-02, -3.4453e-04,\n           1.1467e-02, -1.3175e-01,  1.9073e-01, -6.8935e-02, -1.1771e-02,\n          -4.0115e-02,  1.7630e-01,  1.3563e-01, -6.3120e-02, -3.4054e-02,\n           1.3085e-01,  2.4202e-02, -4.1583e-02, -7.2626e-02, -1.3980e-01,\n          -8.4199e-02, -1.9484e-01, -1.4488e-03, -9.1146e-02,  6.0574e-02,\n          -5.6534e-02,  3.8591e-02, -1.0796e-02,  4.0402e-02,  2.0032e-01,\n          -4.3785e-02,  5.3568e-02,  4.3495e-03], device='cuda:0'),\n  tensor([[ 3.0323e-02, -8.7739e-03,  5.3684e-02,  ...,  5.0055e-02,\n            7.5135e-02,  1.3662e-02],\n          [-1.5347e-01, -2.6000e-02, -9.2760e-03,  ...,  6.3217e-02,\n            4.1364e-03,  4.8668e-02],\n          [-9.3885e-02, -7.7319e-02, -7.2361e-02,  ..., -7.3402e-03,\n           -6.9158e-02, -5.9189e-02],\n          ...,\n          [-1.4702e-01,  4.8122e-05,  1.2648e-02,  ..., -7.5185e-02,\n            8.0300e-02,  3.0929e-02],\n          [ 6.4563e-02, -3.3162e-02,  3.1835e-02,  ...,  3.6961e-02,\n            8.2563e-02,  1.5264e-02],\n          [-2.9253e-02, -1.8351e-02, -9.6716e-03,  ..., -3.3205e-02,\n            2.4459e-02,  5.2723e-02]], device='cuda:0'),\n  tensor([-0.0035, -0.0531, -0.0024,  0.0216, -0.1046,  0.1782, -0.0561,  0.1532,\n           0.0747, -0.0721,  0.0161,  0.0856, -0.1135, -0.1284,  0.1981,  0.0552],\n         device='cuda:0'),\n  tensor([[ 0.0460,  0.2446,  0.0120, -0.0840,  0.0723, -0.1723, -0.0975, -0.1244,\n           -0.1357, -0.1880,  0.1899, -0.2539,  0.0434,  0.2241, -0.0420, -0.0719]],\n         device='cuda:0'),\n  tensor([-0.2945], device='cuda:0')])"
     },
     "execution_count": 93,
     "metadata": {},
     "output_type": "execute_result"
    }
   ],
   "source": [
    "\n",
    "best_loss, best_parameters"
   ],
   "metadata": {
    "collapsed": false,
    "pycharm": {
     "name": "#%%\n"
    }
   }
  },
  {
   "cell_type": "code",
   "execution_count": 94,
   "outputs": [
    {
     "name": "stdout",
     "output_type": "stream",
     "text": [
      "Accuracy: 0.71\n",
      "Confusion Matrix:\n",
      "[[23 17]\n",
      " [ 4 29]]\n",
      "Classification Report:\n",
      "              precision    recall  f1-score   support\n",
      "\n",
      "           0       0.85      0.57      0.69        40\n",
      "           1       0.63      0.88      0.73        33\n",
      "\n",
      "    accuracy                           0.71        73\n",
      "   macro avg       0.74      0.73      0.71        73\n",
      "weighted avg       0.75      0.71      0.71        73\n",
      "\n"
     ]
    }
   ],
   "source": [
    "model.load_state_dict({param_name: param for param_name, param in zip(model.state_dict().keys(), best_parameters)})\n",
    "\n",
    "# Set the model to evaluation mode\n",
    "model.eval()\n",
    "\n",
    "# new_input = torch.FloatTensor([[3, 132.0, 80.0, 40.0, 102.0, 36.2, 0.442, 42]])  # Replace '...' with your actual input values\n",
    "new_input = torch.FloatTensor(X_test).to(device)\n",
    "# y_test_tensor = torch.FloatTensor(Y_test)\n",
    "\n",
    "# Forward pass to get the prediction\n",
    "with torch.no_grad():\n",
    "    prediction = model(new_input)\n",
    "\n",
    "# obtain the model's output\n",
    "rounded_prediction = torch.round(prediction)\n",
    "rounded_prediction = rounded_prediction.cpu()\n",
    "\n",
    "# Convert the tensor to a scalar\n",
    "rounded_prediction_value = rounded_prediction.numpy()\n",
    "\n",
    "# print(f'The model predicts: {rounded_prediction_value}')\n",
    "\n",
    "\n",
    "from sklearn.metrics import accuracy_score, confusion_matrix, classification_report\n",
    "\n",
    "# Convert the rounded predictions to a NumPy array\n",
    "rounded_prediction_np = rounded_prediction_value.flatten()\n",
    "\n",
    "# Compare predictions with actual labels\n",
    "accuracy = accuracy_score(Y_test, rounded_prediction_np)\n",
    "conf_matrix = confusion_matrix(Y_test, rounded_prediction_np)\n",
    "class_report = classification_report(Y_test, rounded_prediction_np)\n",
    "\n",
    "print(f'Accuracy: {accuracy:.2f}')\n",
    "print('Confusion Matrix:')\n",
    "print(conf_matrix)\n",
    "print('Classification Report:')\n",
    "print(class_report)"
   ],
   "metadata": {
    "collapsed": false,
    "pycharm": {
     "name": "#%%\n"
    }
   }
  },
  {
   "cell_type": "code",
   "execution_count": null,
   "outputs": [],
   "source": [],
   "metadata": {
    "collapsed": false,
    "pycharm": {
     "name": "#%%\n"
    }
   }
  }
 ],
 "metadata": {
  "kernelspec": {
   "display_name": "Python 3",
   "language": "python",
   "name": "python3"
  },
  "language_info": {
   "codemirror_mode": {
    "name": "ipython",
    "version": 2
   },
   "file_extension": ".py",
   "mimetype": "text/x-python",
   "name": "python",
   "nbconvert_exporter": "python",
   "pygments_lexer": "ipython2",
   "version": "2.7.6"
  }
 },
 "nbformat": 4,
 "nbformat_minor": 0
}