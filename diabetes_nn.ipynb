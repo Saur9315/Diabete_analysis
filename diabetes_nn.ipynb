{
 "cells": [
  {
   "cell_type": "code",
   "execution_count": 1,
   "metadata": {
    "collapsed": true
   },
   "outputs": [],
   "source": [
    "import numpy as np\n",
    "import pandas as pd\n",
    "import matplotlib.pyplot as plt\n",
    "import seaborn as sns\n",
    "\n",
    "import torch\n",
    "from torch.nn import Sequential, Linear\n",
    "from torch.optim import SGD"
   ]
  },
  {
   "cell_type": "code",
   "execution_count": 2,
   "outputs": [],
   "source": [
    "df = pd.read_csv('datasets/diabetes_balanced.csv')"
   ],
   "metadata": {
    "collapsed": false,
    "pycharm": {
     "name": "#%%\n"
    }
   }
  },
  {
   "cell_type": "code",
   "execution_count": 3,
   "outputs": [
    {
     "data": {
      "text/plain": "   Pregnancies  Glucose  BloodPressure  SkinThickness  Insulin   BMI  \\\n0            6    148.0           72.0           35.0    105.0  33.6   \n1            1     85.0           66.0           29.0    105.0  26.6   \n2            8    183.0           64.0           32.0    105.0  23.3   \n3            3     78.0           50.0           32.0     88.0  31.0   \n4            8    125.0           96.0           32.0    105.0  32.0   \n\n   DiabetesPedigreeFunction  Age  Outcome  \n0                     0.627   50        1  \n1                     0.351   31        0  \n2                     0.672   32        1  \n3                     0.248   26        1  \n4                     0.232   54        1  ",
      "text/html": "<div>\n<style scoped>\n    .dataframe tbody tr th:only-of-type {\n        vertical-align: middle;\n    }\n\n    .dataframe tbody tr th {\n        vertical-align: top;\n    }\n\n    .dataframe thead th {\n        text-align: right;\n    }\n</style>\n<table border=\"1\" class=\"dataframe\">\n  <thead>\n    <tr style=\"text-align: right;\">\n      <th></th>\n      <th>Pregnancies</th>\n      <th>Glucose</th>\n      <th>BloodPressure</th>\n      <th>SkinThickness</th>\n      <th>Insulin</th>\n      <th>BMI</th>\n      <th>DiabetesPedigreeFunction</th>\n      <th>Age</th>\n      <th>Outcome</th>\n    </tr>\n  </thead>\n  <tbody>\n    <tr>\n      <th>0</th>\n      <td>6</td>\n      <td>148.0</td>\n      <td>72.0</td>\n      <td>35.0</td>\n      <td>105.0</td>\n      <td>33.6</td>\n      <td>0.627</td>\n      <td>50</td>\n      <td>1</td>\n    </tr>\n    <tr>\n      <th>1</th>\n      <td>1</td>\n      <td>85.0</td>\n      <td>66.0</td>\n      <td>29.0</td>\n      <td>105.0</td>\n      <td>26.6</td>\n      <td>0.351</td>\n      <td>31</td>\n      <td>0</td>\n    </tr>\n    <tr>\n      <th>2</th>\n      <td>8</td>\n      <td>183.0</td>\n      <td>64.0</td>\n      <td>32.0</td>\n      <td>105.0</td>\n      <td>23.3</td>\n      <td>0.672</td>\n      <td>32</td>\n      <td>1</td>\n    </tr>\n    <tr>\n      <th>3</th>\n      <td>3</td>\n      <td>78.0</td>\n      <td>50.0</td>\n      <td>32.0</td>\n      <td>88.0</td>\n      <td>31.0</td>\n      <td>0.248</td>\n      <td>26</td>\n      <td>1</td>\n    </tr>\n    <tr>\n      <th>4</th>\n      <td>8</td>\n      <td>125.0</td>\n      <td>96.0</td>\n      <td>32.0</td>\n      <td>105.0</td>\n      <td>32.0</td>\n      <td>0.232</td>\n      <td>54</td>\n      <td>1</td>\n    </tr>\n  </tbody>\n</table>\n</div>"
     },
     "execution_count": 3,
     "metadata": {},
     "output_type": "execute_result"
    }
   ],
   "source": [
    "df.head()"
   ],
   "metadata": {
    "collapsed": false,
    "pycharm": {
     "name": "#%%\n"
    }
   }
  },
  {
   "cell_type": "code",
   "execution_count": 3,
   "outputs": [],
   "source": [],
   "metadata": {
    "collapsed": false,
    "pycharm": {
     "name": "#%%\n"
    }
   }
  },
  {
   "cell_type": "markdown",
   "source": [
    "# PyTorch"
   ],
   "metadata": {
    "collapsed": false
   }
  },
  {
   "cell_type": "code",
   "execution_count": 8,
   "outputs": [
    {
     "name": "stdout",
     "output_type": "stream",
     "text": [
      "cuda\n",
      "Epoch [1/100], Loss: 0.6752\n",
      "Epoch [11/100], Loss: 0.7190\n",
      "Epoch [21/100], Loss: 0.4717\n",
      "Epoch [31/100], Loss: 0.5265\n",
      "Epoch [41/100], Loss: 0.5274\n",
      "Epoch [51/100], Loss: 0.4759\n",
      "Epoch [61/100], Loss: 0.5386\n",
      "Epoch [71/100], Loss: 0.5296\n",
      "Epoch [81/100], Loss: 0.4462\n",
      "Epoch [91/100], Loss: 0.2862\n"
     ]
    }
   ],
   "source": [
    "import torch\n",
    "import torch.nn as nn\n",
    "import torch.optim as optim\n",
    "from torch.utils.data import DataLoader, TensorDataset\n",
    "from sklearn.model_selection import train_test_split\n",
    "\n",
    "# setting device to gpu\n",
    "device = torch.device('cuda' if torch.cuda.is_available() else 'cpu')\n",
    "print(device)\n",
    "\n",
    "X = df.drop('Outcome', axis=1).values\n",
    "Y = df['Outcome'].values\n",
    "\n",
    "X_train, X_test, Y_train, Y_test = train_test_split(X, Y, test_size=0.15, random_state=42)\n",
    "\n",
    "# Convert NumPy arrays to PyTorch tensors\n",
    "features_tensor = torch.FloatTensor(X_train)\n",
    "labels_tensor = torch.FloatTensor(Y_train)\n",
    "\n",
    "# Create a DataLoader\n",
    "dataset = TensorDataset(features_tensor, labels_tensor)\n",
    "dataloader = DataLoader(dataset, batch_size=64, shuffle=True)\n",
    "\n",
    "\n",
    "class DiabetesModel(nn.Module):\n",
    "    def __init__(self):\n",
    "        super(DiabetesModel, self).__init__()\n",
    "        self.fc1 = nn.Linear(8, 128)\n",
    "        self.relu = nn.ReLU()\n",
    "        self.fc2 = nn.Linear(128, 128)\n",
    "        self.relu2 = nn.ReLU()\n",
    "        self.fc3 = nn.Linear(128, 128)\n",
    "        self.relu3 = nn.ReLU()\n",
    "        self.fc4 = nn.Linear(128, 16)\n",
    "        self.relu4 = nn.ReLU()\n",
    "        self.fc5 = nn.Linear(16, 1)\n",
    "        self.sigmoid = nn.Sigmoid()\n",
    "\n",
    "    def forward(self, x):\n",
    "        x = self.relu(self.fc1(x))\n",
    "        x = self.relu2(self.fc2(x))\n",
    "        x = self.relu3(self.fc3(x))\n",
    "        x = self.relu4(self.fc4(x))\n",
    "        x = self.sigmoid(self.fc5(x))\n",
    "        return x\n",
    "\n",
    "# Instantiate the model, loss function, and optimizer\n",
    "model = DiabetesModel()\n",
    "criterion = nn.BCELoss()\n",
    "optimizer = optim.Adam(model.parameters(), lr=0.001)\n",
    "# optimizer = optim.SGD(model.parameters(), lr=0.001)\n",
    "\n",
    "model.to(device)\n",
    "features_tensor = features_tensor.to(device)\n",
    "labels_tensor = labels_tensor.to(device)\n",
    "\n",
    "# Lists to store parameters and loss history\n",
    "parameters_history = []\n",
    "loss_history = []\n",
    "best_loss = float('inf')\n",
    "best_parameters = None\n",
    "\n",
    "for param in model.parameters():\n",
    "    param.to(device)\n",
    "\n",
    "# Training loop\n",
    "num_epochs = 100\n",
    "for epoch in range(num_epochs):\n",
    "    for batch_features, batch_labels in dataloader:\n",
    "        batch_features, batch_labels = batch_features.to(device), batch_labels.to(device)\n",
    "        optimizer.zero_grad()\n",
    "        outputs = model(batch_features)\n",
    "        loss = criterion(outputs, batch_labels.view(-1, 1))\n",
    "        loss.backward()\n",
    "        optimizer.step()\n",
    "    # Store parameters and loss at the end of each epoch\n",
    "    if loss.item() < best_loss:\n",
    "        best_loss = loss.item()\n",
    "        best_parameters = [param.data.clone() for param in model.parameters()]\n",
    "    parameters_history.append([param.data.clone() for param in model.parameters()])\n",
    "    loss_history.append(loss.item())\n",
    "    if epoch % 10 == 0:\n",
    "        print(f'Epoch [{epoch+1}/{num_epochs}], Loss: {loss.item():.4f}')"
   ],
   "metadata": {
    "collapsed": false,
    "pycharm": {
     "name": "#%%\n"
    }
   }
  },
  {
   "cell_type": "code",
   "execution_count": 9,
   "outputs": [
    {
     "data": {
      "text/plain": "<Figure size 432x288 with 1 Axes>",
      "image/png": "[encoded data removed]"
     },
     "metadata": {
      "needs_background": "light"
     },
     "output_type": "display_data"
    }
   ],
   "source": [
    "\n",
    "sns.lineplot(x=range(num_epochs), y=loss_history)\n",
    "plt.title('Training Loss Over Epochs')\n",
    "plt.xlabel('Epochs')\n",
    "plt.ylabel('Loss')\n",
    "plt.show()"
   ],
   "metadata": {
    "collapsed": false,
    "pycharm": {
     "name": "#%%\n"
    }
   }
  },
  {
   "cell_type": "code",
   "execution_count": 10,
   "outputs": [
    {
     "data": {
      "text/plain": "(0.2030523121356964,\n [tensor([[-0.1912,  0.1186,  0.3919,  ..., -0.1604,  0.2997, -0.1618],\n          [-0.0932, -0.1134, -0.0683,  ...,  0.0249, -0.3431,  0.1593],\n          [ 0.0290, -0.0970,  0.3612,  ...,  0.1519, -0.1780, -0.2965],\n          ...,\n          [ 0.2976,  0.1608, -0.0823,  ...,  0.2056,  0.2070, -0.3173],\n          [ 0.4487,  0.2094, -0.0156,  ...,  0.2500, -0.0209, -0.1005],\n          [ 0.2895, -0.2961,  0.0340,  ...,  0.1232, -0.1577,  0.1247]],\n         device='cuda:0'),\n  tensor([ 0.2958,  0.4836, -0.0165, -0.2429,  0.2076,  0.3662,  0.3468,  0.0317,\n          -0.3333,  0.1657, -0.0077, -0.1417,  0.0179,  0.0379, -0.2219, -0.1095,\n          -0.2433,  0.0071, -0.1476, -0.2510,  0.2610, -0.1241, -0.0492,  0.2391,\n           0.1517, -0.1877,  0.2227, -0.4173,  0.1958,  0.2830, -0.4206, -0.0266,\n          -0.1094,  0.0184,  0.2261, -0.0117, -0.1168,  0.2483, -0.3500,  0.0357,\n          -0.0040, -0.1215, -0.0107, -0.3613,  0.1233, -0.0940,  0.0067, -0.2753,\n           0.1565,  0.3024, -0.0109,  0.1753, -0.2774, -0.2739,  0.0282,  0.2285,\n           0.1098,  0.1134,  0.1322, -0.0473, -0.2163, -0.1378,  0.2798, -0.0316,\n          -0.0478, -0.3147,  0.3139,  0.0093,  0.1530, -0.0480, -0.1352,  0.0073,\n          -0.0549, -0.0498,  0.0535, -0.3146, -0.0302,  0.1340, -0.0567,  0.4186,\n           0.0706,  0.2723, -0.3204, -0.0840,  0.1203, -0.3129, -0.1811, -0.2072,\n          -0.0385,  0.4156,  0.3750, -0.2280, -0.2943, -0.0195,  0.1997, -0.3430,\n           0.1681, -0.2145, -0.1950,  0.3229,  0.3525, -0.1413, -0.1349, -0.2888,\n          -0.1773,  0.0471,  0.2594, -0.2536, -0.1589,  0.1371,  0.0357, -0.1006,\n          -0.4105,  0.1888, -0.1360, -0.2483, -0.2937, -0.3159,  0.4653,  0.3478,\n          -0.0351, -0.1051,  0.0146,  0.2003, -0.1714, -0.2422, -0.3556, -0.3064],\n         device='cuda:0'),\n  tensor([[ 0.1368, -0.0553,  0.0104,  ..., -0.0145,  0.0289, -0.0346],\n          [ 0.1555,  0.1473,  0.0272,  ...,  0.0684,  0.0091,  0.0091],\n          [-0.0648,  0.0212,  0.0557,  ...,  0.0165,  0.0383,  0.0698],\n          ...,\n          [ 0.0230, -0.1310, -0.0511,  ...,  0.0203,  0.0904, -0.0794],\n          [-0.0007,  0.0369,  0.0841,  ..., -0.0083, -0.0163, -0.0036],\n          [ 0.0857,  0.0627,  0.0878,  ..., -0.0211,  0.0461,  0.0985]],\n         device='cuda:0'),\n  tensor([-6.3192e-03,  8.5083e-02,  3.1091e-02, -1.3614e-01, -4.1309e-02,\n           5.9099e-02, -3.5195e-02,  1.4821e-03,  1.6595e-01, -5.4610e-02,\n           2.9626e-03,  1.6062e-01, -4.7886e-02, -3.7762e-02, -2.0228e-01,\n           5.7622e-02, -9.2704e-03,  2.2477e-02, -1.7964e-02, -1.4644e-01,\n           1.9010e-01,  1.5592e-01,  3.1487e-02,  1.5536e-01, -1.3053e-04,\n          -5.2684e-02, -5.9960e-02, -3.9881e-03, -6.9934e-02,  1.3516e-01,\n          -4.7668e-02, -8.6047e-02, -1.2123e-02, -1.6268e-02,  2.0679e-01,\n           2.4002e-02, -2.3406e-01, -1.8941e-02,  1.7102e-01, -9.8251e-03,\n           7.1322e-02,  1.4715e-01, -1.4217e-01, -8.7926e-02, -6.1853e-02,\n          -8.1999e-02,  7.0669e-02, -2.6178e-02, -4.1133e-02,  3.5765e-02,\n           1.6330e-02, -1.9585e-01,  2.4879e-02, -1.4751e-01,  6.4581e-02,\n           2.0219e-01, -6.6532e-02,  1.5435e-02, -4.0535e-02, -7.5032e-03,\n           1.3225e-01,  2.9045e-02, -7.8449e-02, -1.9670e-02, -2.7541e-02,\n           2.2819e-02,  6.9367e-02,  8.3019e-03,  5.2103e-02, -8.0593e-02,\n          -1.1139e-01, -7.1588e-02, -7.0909e-02, -8.9565e-02, -2.7037e-02,\n           1.4514e-01,  7.6570e-02, -8.4774e-02,  3.4685e-02,  1.5505e-01,\n           4.3987e-02,  5.1872e-02, -1.2473e-01,  3.9999e-02,  1.5359e-01,\n           4.4387e-02,  1.4054e-01, -1.1939e-03, -2.2044e-02, -6.3567e-02,\n           4.3254e-03,  6.8310e-02,  7.2894e-02,  6.1341e-02,  7.8558e-02,\n          -7.5784e-02, -2.0920e-02,  3.0061e-02, -5.0892e-02, -5.5047e-02,\n          -2.7868e-02,  1.6043e-01, -7.4853e-02, -1.0572e-02,  6.0818e-02,\n          -6.7823e-02,  6.0806e-02, -1.7315e-01,  2.9010e-02,  9.4217e-02,\n           3.1604e-02,  1.6705e-01,  3.2195e-02, -1.3187e-01,  4.2275e-02,\n           4.0283e-02, -4.1124e-02, -1.2573e-01, -5.4685e-02, -2.2438e-02,\n           1.6622e-01, -5.0451e-02, -5.6013e-02, -1.0993e-01, -1.7215e-02,\n          -8.5051e-02, -7.3378e-02,  8.8420e-02], device='cuda:0'),\n  tensor([[-0.0415,  0.0379,  0.0184,  ...,  0.0192, -0.0416,  0.0370],\n          [ 0.0810,  0.0611, -0.0115,  ..., -0.0257, -0.0572, -0.0018],\n          [-0.1049,  0.0684, -0.0177,  ..., -0.0220,  0.0291,  0.0142],\n          ...,\n          [ 0.0423, -0.1028, -0.0316,  ...,  0.0773,  0.0561, -0.0853],\n          [ 0.0662, -0.0810, -0.0394,  ..., -0.0585, -0.0222, -0.0869],\n          [ 0.0175,  0.0553, -0.0241,  ...,  0.0600, -0.0314, -0.0834]],\n         device='cuda:0'),\n  tensor([-6.1364e-02, -1.2797e-03,  1.2637e-01, -3.1509e-02,  1.3075e-01,\n          -7.6214e-02,  8.9678e-03,  2.0901e-02,  1.0219e-01, -2.5559e-02,\n          -1.0891e-01,  4.8934e-02,  5.7732e-02,  5.6743e-02, -8.9768e-02,\n           2.4649e-02, -7.8301e-02,  9.0175e-02, -1.8670e-01,  5.7851e-02,\n          -6.8319e-03, -1.8122e-02,  1.5598e-01, -9.4801e-02, -5.7653e-02,\n           2.1723e-01, -3.8661e-02, -6.3955e-02,  4.0408e-02, -9.7656e-02,\n           1.0602e-03, -7.9129e-02,  3.8933e-02,  3.9460e-02,  1.1996e-01,\n           5.4632e-02,  3.3504e-02, -1.8639e-01, -7.5118e-02, -1.2709e-01,\n          -1.7276e-01,  1.9379e-01,  9.2018e-02,  1.1613e-01, -1.6058e-01,\n          -5.7181e-02, -1.4071e-02, -2.1234e-02, -1.5801e-01, -6.4633e-02,\n          -3.7330e-02, -2.2704e-02,  1.5814e-02,  9.7320e-02,  7.9474e-02,\n           7.7264e-02, -1.2643e-03, -2.3049e-02, -2.3016e-02,  4.3449e-02,\n          -8.6350e-05, -1.7228e-01, -1.0758e-02,  1.0042e-01, -4.5457e-02,\n           5.3251e-02,  1.8667e-01, -3.7108e-02, -2.0319e-01,  1.5827e-01,\n           9.2263e-02,  2.8462e-02, -5.2025e-02,  3.4788e-02, -1.6566e-01,\n           2.8261e-02,  1.1555e-02, -1.6054e-01,  1.9463e-02,  2.8320e-03,\n          -7.5734e-03, -7.5176e-02, -1.5904e-02, -6.2677e-02,  5.0018e-02,\n          -1.0168e-02, -2.1351e-01,  7.5250e-02,  7.9159e-02, -1.0208e-01,\n           3.6140e-02, -1.6780e-01, -1.3782e-01,  2.2046e-01, -6.4077e-02,\n           3.0923e-04, -7.3254e-02,  4.0892e-02, -7.6225e-02,  9.8816e-02,\n          -8.5134e-02, -1.5240e-01, -6.5151e-02,  1.4627e-02, -9.4617e-02,\n          -5.3926e-02, -6.0060e-02, -4.7935e-02, -1.6669e-01, -3.9895e-03,\n           2.9056e-02, -6.9540e-02, -7.1439e-02,  1.0725e-01,  1.7191e-02,\n          -1.7294e-01, -9.0558e-03,  1.3502e-01,  7.4936e-02, -1.0578e-01,\n           2.0859e-02,  1.5167e-01, -2.3381e-02,  1.6345e-01,  1.3556e-01,\n           2.1546e-01,  4.0799e-02,  4.2555e-02], device='cuda:0'),\n  tensor([[ 0.0395, -0.0795,  0.0849,  ..., -0.0635, -0.0722, -0.0236],\n          [-0.0211, -0.0797, -0.0097,  ...,  0.0464,  0.0480, -0.1188],\n          [-0.0970, -0.0773,  0.0591,  ..., -0.0437, -0.0344, -0.0615],\n          ...,\n          [ 0.0783, -0.0733, -0.0226,  ..., -0.0327, -0.0557, -0.0845],\n          [ 0.0674, -0.0451, -0.0631,  ...,  0.0036,  0.0780, -0.0263],\n          [ 0.0005, -0.0530,  0.0279,  ...,  0.0342,  0.0510,  0.1152]],\n         device='cuda:0'),\n  tensor([-0.0653,  0.1123, -0.0176, -0.0426, -0.1413, -0.0554, -0.0260,  0.0377,\n           0.0333,  0.0014,  0.1289,  0.1235,  0.1644, -0.0679, -0.0383,  0.1599],\n         device='cuda:0'),\n  tensor([[ 0.1892, -0.3533, -0.1420, -0.1510,  0.1304,  0.2444,  0.1125, -0.1777,\n           -0.1494,  0.0617, -0.2332, -0.2344, -0.2430,  0.2644, -0.1725, -0.0515]],\n         device='cuda:0'),\n  tensor([-0.0937], device='cuda:0')])"
     },
     "execution_count": 10,
     "metadata": {},
     "output_type": "execute_result"
    }
   ],
   "source": [
    "\n",
    "best_loss, best_parameters"
   ],
   "metadata": {
    "collapsed": false,
    "pycharm": {
     "name": "#%%\n"
    }
   }
  },
  {
   "cell_type": "code",
   "execution_count": 11,
   "outputs": [
    {
     "name": "stdout",
     "output_type": "stream",
     "text": [
      "Accuracy: 0.73\n",
      "Confusion Matrix:\n",
      "[[26 14]\n",
      " [ 6 27]]\n",
      "Classification Report:\n",
      "              precision    recall  f1-score   support\n",
      "\n",
      "           0       0.81      0.65      0.72        40\n",
      "           1       0.66      0.82      0.73        33\n",
      "\n",
      "    accuracy                           0.73        73\n",
      "   macro avg       0.74      0.73      0.73        73\n",
      "weighted avg       0.74      0.73      0.73        73\n",
      "\n"
     ]
    }
   ],
   "source": [
    "model.load_state_dict({param_name: param for param_name, param in zip(model.state_dict().keys(), best_parameters)})\n",
    "\n",
    "# Set the model to evaluation mode\n",
    "model.eval()\n",
    "\n",
    "# new_input = torch.FloatTensor([[3, 132.0, 80.0, 40.0, 102.0, 36.2, 0.442, 42]])  # Replace '...' with your actual input values\n",
    "new_input = torch.FloatTensor(X_test).to(device)\n",
    "# y_test_tensor = torch.FloatTensor(Y_test)\n",
    "\n",
    "# Forward pass to get the prediction\n",
    "with torch.no_grad():\n",
    "    prediction = model(new_input)\n",
    "\n",
    "# obtain the model's output\n",
    "rounded_prediction = torch.round(prediction)\n",
    "rounded_prediction = rounded_prediction.cpu()\n",
    "\n",
    "# Convert the tensor to a scalar\n",
    "rounded_prediction_value = rounded_prediction.numpy()\n",
    "\n",
    "# print(f'The model predicts: {rounded_prediction_value}')\n",
    "\n",
    "\n",
    "from sklearn.metrics import accuracy_score, confusion_matrix, classification_report\n",
    "\n",
    "# Convert the rounded predictions to a NumPy array\n",
    "rounded_prediction_np = rounded_prediction_value.flatten()\n",
    "\n",
    "# Compare predictions with actual labels\n",
    "accuracy = accuracy_score(Y_test, rounded_prediction_np)\n",
    "conf_matrix = confusion_matrix(Y_test, rounded_prediction_np)\n",
    "class_report = classification_report(Y_test, rounded_prediction_np)\n",
    "\n",
    "print(f'Accuracy: {accuracy:.2f}')\n",
    "print('Confusion Matrix:')\n",
    "print(conf_matrix)\n",
    "print('Classification Report:')\n",
    "print(class_report)"
   ],
   "metadata": {
    "collapsed": false,
    "pycharm": {
     "name": "#%%\n"
    }
   }
  },
  {
   "cell_type": "code",
   "execution_count": null,
   "outputs": [],
   "source": [],
   "metadata": {
    "collapsed": false,
    "pycharm": {
     "name": "#%%\n"
    }
   }
  }
 ],
 "metadata": {
  "kernelspec": {
   "display_name": "Python 3",
   "language": "python",
   "name": "python3"
  },
  "language_info": {
   "codemirror_mode": {
    "name": "ipython",
    "version": 2
   },
   "file_extension": ".py",
   "mimetype": "text/x-python",
   "name": "python",
   "nbconvert_exporter": "python",
   "pygments_lexer": "ipython2",
   "version": "2.7.6"
  }
 },
 "nbformat": 4,
 "nbformat_minor": 0
}